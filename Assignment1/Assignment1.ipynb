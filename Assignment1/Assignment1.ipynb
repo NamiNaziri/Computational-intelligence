{
 "cells": [
  {
   "cell_type": "code",
   "execution_count": 127,
   "metadata": {},
   "outputs": [],
   "source": [
    "import numpy as np\n",
    "import pandas as pd\n",
    "from numpy import genfromtxt\n",
    "import matplotlib.pyplot as plt\n",
    "from sklearn import preprocessing"
   ]
  },
  {
   "cell_type": "code",
   "execution_count": 128,
   "metadata": {},
   "outputs": [
    {
     "data": {
      "text/plain": [
       "(2536, 74)"
      ]
     },
     "execution_count": 128,
     "metadata": {},
     "output_type": "execute_result"
    }
   ],
   "source": [
    "# load dataset\n",
    "data = pd.read_csv('Ozone Level Detection.data',\n",
    "                   sep=\";|:|,\",\n",
    "                   header=None,\n",
    "                   engine='python')\n",
    "\n",
    "# change missing value to np.nan\n",
    "data[data == '?'] = np.nan\n",
    "\n",
    "#data.isnull().sum()\n",
    "np_data = data.to_numpy()\n",
    "np_data.shape\n",
    "#data"
   ]
  },
  {
   "cell_type": "markdown",
   "metadata": {},
   "source": [
    "#رفع داده های گم‌شده\n",
    "\n",
    "برای رفع داده های گم شده از منبع زیر استفاده شده است.\n",
    "https://www.analyticsvidhya.com/blog/2021/10/handling-missing-value/\n",
    "\n",
    "\n",
    "Missing values are imputed using the k-Nearest Neighbors approach where a Euclidean distance is used to find the nearest neighbors."
   ]
  },
  {
   "cell_type": "code",
   "execution_count": 129,
   "metadata": {},
   "outputs": [],
   "source": [
    "X = data.iloc[:,1:74]"
   ]
  },
  {
   "cell_type": "code",
   "execution_count": 130,
   "metadata": {},
   "outputs": [],
   "source": [
    "from sklearn.impute import KNNImputer\n",
    "impute_knn = KNNImputer(n_neighbors=5)\n",
    "FixedInputData = impute_knn.fit_transform(X)\n",
    "FixedInputData = pd.DataFrame(FixedInputData)\n",
    "#FixedInputData.insert(0,-1, np_data[:,0]) Adding date as property\n",
    "FixedInputData = FixedInputData.to_numpy()\n",
    "\n"
   ]
  },
  {
   "cell_type": "markdown",
   "metadata": {},
   "source": [
    "## implementing KFold\n",
    "\n",
    "ورودی این تابع تعداد تقسیم، آرایه و اینکه رندوم بشود یا نه را می گیرد و خروجی آن آرایه ای از کلاس فولد می دهد که شامل داده ی آموزش و تست است. بدیهی است که تعداد این آرایه برابر تعداد تقسیم که در ورودی گرفته است، می باشد."
   ]
  },
  {
   "cell_type": "code",
   "execution_count": 131,
   "metadata": {},
   "outputs": [],
   "source": [
    "class Fold:\n",
    "    def __init__(self,X_Train,Y_Train,X_Test,Y_Test):\n",
    "        self.X_Train = X_Train\n",
    "        self.Y_Train = Y_Train\n",
    "        self.X_Test = X_Test\n",
    "        self.Y_Test = Y_Test\n",
    "\n",
    "\n",
    "def KFold(NumberOfSplits, InputData, Shuffle=False):\n",
    "    if(Shuffle):\n",
    "         np.random.shuffle(InputData)\n",
    "    output = []\n",
    "\n",
    "    SplitedArray = np.array_split(InputData, NumberOfSplits)\n",
    "    for i in range(NumberOfSplits):\n",
    "        test = SplitedArray[i]\n",
    "        train = np.concatenate( SplitedArray[0:i] +  SplitedArray[i + 1 :], axis=0 )\n",
    "        X_Train = preprocessing.normalize(train[:,:-1])\n",
    "        Y_Train = train[:, -1]\n",
    "\n",
    "        X_Test = preprocessing.normalize(test[:,:-1])\n",
    "        Y_Test = test[:,-1]\n",
    "        output.append(Fold(X_Train,Y_Train,X_Test,Y_Test))\n",
    "    \n",
    "    return output\n",
    " \n",
    "\n",
    "    "
   ]
  },
  {
   "cell_type": "code",
   "execution_count": 132,
   "metadata": {},
   "outputs": [
    {
     "data": {
      "text/plain": [
       "1690"
      ]
     },
     "execution_count": 132,
     "metadata": {},
     "output_type": "execute_result"
    }
   ],
   "source": [
    "kfold_Out = KFold(3,FixedInputData)\n",
    "kfold_Out[0].X_Train.shape[0]"
   ]
  },
  {
   "cell_type": "code",
   "execution_count": 133,
   "metadata": {},
   "outputs": [],
   "source": [
    "def sigmoid(x):\n",
    "    return (1/(1 +  np.e ** (-x)))"
   ]
  },
  {
   "cell_type": "code",
   "execution_count": 134,
   "metadata": {},
   "outputs": [],
   "source": [
    "def CrossEntropyLossFunction(M, Y_Hat, Y):\n",
    "    return (-1/M) * (Y.dot( np.log(Y_Hat).T) + (1-Y).dot( np.log(1 - Y_Hat).T))\n"
   ]
  },
  {
   "cell_type": "code",
   "execution_count": 135,
   "metadata": {},
   "outputs": [],
   "source": [
    "def CalculateYHat(W,X,b):\n",
    "    return np.dot(W , np.transpose(X)) + b"
   ]
  },
  {
   "cell_type": "code",
   "execution_count": 136,
   "metadata": {},
   "outputs": [],
   "source": [
    "def CalculateAnswer(Y_Hat):\n",
    "    for i in range(Y_Hat.shape[1]):\n",
    "        if(Y_Hat[0,i] > 0.5):\n",
    "            Y_Hat[i] = 1\n",
    "        else:\n",
    "            Y_Hat[0,i] = 0\n",
    "    \n",
    "    return Y_Hat\n"
   ]
  },
  {
   "cell_type": "code",
   "execution_count": 139,
   "metadata": {},
   "outputs": [
    {
     "name": "stdout",
     "output_type": "stream",
     "text": [
      "0.9657210401891253 num:  (1, 846)\n",
      "0.9727810650887574 num:  (1, 845)\n",
      "0.9751479289940829 num:  (1, 845)\n"
     ]
    }
   ],
   "source": [
    "nr_split = 3\n",
    "kfold_Out = KFold(nr_split,FixedInputData,True)\n",
    "kfold_Out[0].X_Train.shape[0]\n",
    "\n",
    "\n",
    "learningRate = 0.1\n",
    "nr_epoch = 500\n",
    "\n",
    "for i in range (nr_split): #TODO\n",
    "    # for each split do the training\n",
    "    X = kfold_Out[i].X_Train\n",
    "    Y = np.reshape( kfold_Out[i].Y_Train,(1, kfold_Out[i].Y_Train.shape[0]))\n",
    "    #print(\"shape: \",X.shape)\n",
    "    M = X.shape[0]\n",
    "    W = np.zeros((1 ,X.shape[1])) # 1 * 72\n",
    "    b = np.zeros((1,1)) # 1 * 1\n",
    "\n",
    "    for j in range(nr_epoch): # traning for nr_epoch\n",
    "            \n",
    "        Z = CalculateYHat(W,X,b)  # W => 1 * 72 ||||| X => M * 72 \n",
    "        \n",
    "        A = sigmoid(Z) # Y_hat\n",
    "        #print(A)\n",
    "        L = CrossEntropyLossFunction(M,A, Y)\n",
    "        \n",
    "        # dL/dZ\n",
    "        dZ = A - Y \n",
    "        \n",
    "        \n",
    "        # Calculate derivitives\n",
    "        dW = (1/M) * (np.dot(X.T,dZ.T)) # dL/dW\n",
    "        \n",
    "        db = (1/M) * np.sum(dZ) # dL/db\n",
    "\n",
    "        # update the weights and bias\n",
    "        W = W - learningRate * np.transpose(dW)\n",
    "        \n",
    "        b = b - learningRate * np.transpose(db)\n",
    "\n",
    "    # Calculate loss for current split\n",
    "    X_test = kfold_Out[i].X_Test\n",
    "    Y_test = np.reshape( kfold_Out[i].Y_Test,(1, kfold_Out[i].Y_Test.shape[0]))\n",
    "    Z = CalculateYHat(W,X_test,b)\n",
    "    Y_hat = sigmoid(Z)\n",
    "    \n",
    "    Y_hat = np.round(Y_hat)\n",
    "    print((Y_hat == Y_test).sum() / Y_test.shape[1], \"num: \", Y_test.shape)\n",
    "    "
   ]
  }
 ],
 "metadata": {
  "interpreter": {
   "hash": "51902d065fd6e660be0379b1baf3c7c6b11efc2d50f5e5f8e7ba9613741f3e85"
  },
  "kernelspec": {
   "display_name": "Python 3.9.5 64-bit",
   "language": "python",
   "name": "python3"
  },
  "language_info": {
   "codemirror_mode": {
    "name": "ipython",
    "version": 3
   },
   "file_extension": ".py",
   "mimetype": "text/x-python",
   "name": "python",
   "nbconvert_exporter": "python",
   "pygments_lexer": "ipython3",
   "version": "3.9.5"
  },
  "orig_nbformat": 4
 },
 "nbformat": 4,
 "nbformat_minor": 2
}
